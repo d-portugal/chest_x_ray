{
  "cells": [
    {
      "cell_type": "markdown",
      "metadata": {
        "id": "view-in-github",
        "colab_type": "text"
      },
      "source": [
        "<a href=\"https://colab.research.google.com/github/d-portugal/chest_x_ray/blob/main/chest_xray_APA.ipynb\" target=\"_parent\"><img src=\"https://colab.research.google.com/assets/colab-badge.svg\" alt=\"Open In Colab\"/></a>"
      ]
    },
    {
      "cell_type": "markdown",
      "metadata": {
        "id": "h3MGVB9VVPsu"
      },
      "source": [
        "**Packages**"
      ]
    },
    {
      "cell_type": "code",
      "source": [
        "pip install split-folders"
      ],
      "metadata": {
        "id": "V13g6xSaiEYT",
        "outputId": "a67e6b6b-efa6-4793-8112-a1fc2568809a",
        "colab": {
          "base_uri": "https://localhost:8080/"
        }
      },
      "execution_count": 3,
      "outputs": [
        {
          "output_type": "stream",
          "name": "stdout",
          "text": [
            "Looking in indexes: https://pypi.org/simple, https://us-python.pkg.dev/colab-wheels/public/simple/\n",
            "Requirement already satisfied: split-folders in /usr/local/lib/python3.7/dist-packages (0.5.1)\n"
          ]
        }
      ]
    },
    {
      "cell_type": "code",
      "execution_count": 4,
      "metadata": {
        "id": "idF7pS8YUxwG"
      },
      "outputs": [],
      "source": [
        "import pandas as pd\n",
        "import numpy as np\n",
        "import os, sys\n",
        "import zipfile          \n",
        "from zipfile import ZipFile\n",
        "import tensorflow as tf\n",
        "from tensorflow.keras.preprocessing import image_dataset_from_directory\n",
        "import matplotlib.pyplot as plt\n",
        "import matplotlib.image as mpimg\n",
        "from tensorflow import keras\n",
        "from tensorflow.keras import layers\n",
        "from tensorflow.keras.layers.experimental import preprocessing\n",
        "from tensorflow.keras.callbacks import EarlyStopping\n",
        "import tensorflow_hub as hub\n",
        "from tensorflow.keras.applications.vgg16 import VGG16\n",
        "from tensorflow.keras.applications.vgg16 import preprocess_input\n",
        "import splitfolders\n",
        "import shutil"
      ]
    },
    {
      "cell_type": "markdown",
      "metadata": {
        "id": "p2kMEoeta9nX"
      },
      "source": [
        "Importar dados"
      ]
    },
    {
      "cell_type": "code",
      "execution_count": 5,
      "metadata": {
        "colab": {
          "base_uri": "https://localhost:8080/"
        },
        "id": "AgNlK4Cy8RyT",
        "outputId": "114a6ea7-4068-4856-d3b7-1dae33194544"
      },
      "outputs": [
        {
          "output_type": "stream",
          "name": "stdout",
          "text": [
            "Downloading...\n",
            "From: https://drive.google.com/uc?id=14aHeQoLFL9zu-VEKmZTTUFWIfNCfRkQp\n",
            "To: /content/chest_xray.zip\n",
            "100% 1.15G/1.15G [00:07<00:00, 149MB/s]\n"
          ]
        }
      ],
      "source": [
        "#Download do arquivo zip pelo google drive\n",
        "!gdown 14aHeQoLFL9zu-VEKmZTTUFWIfNCfRkQp\n",
        "\n",
        "#Diretório do zip\n",
        "chest_xray = \"/content/chest_xray.zip\"\n",
        "\n",
        "#Diretório para o arquivo extraido\n",
        "target_dir = \"/content/sample_data/dataset\"\n",
        "\n",
        "#Extração\n",
        "zfile = zipfile.ZipFile(chest_xray)\n",
        "zfile.extractall(target_dir)"
      ]
    },
    {
      "cell_type": "markdown",
      "source": [
        "Train Test Split"
      ],
      "metadata": {
        "id": "REuQzjcfkOP5"
      }
    },
    {
      "cell_type": "code",
      "source": [
        "#Train test split, 20% dos dados serão usados para testar o modelo\n",
        "treinamento_path = '/content/sample_data/dataset/chest_xray/treinamento'\n",
        "splitfolders.ratio(treinamento_path, output=\"/content/sample_data/dataset/chest_xray\", move = True,  seed=1, ratio=(.8, 0.2)) \n",
        "\n",
        "#Remover o folder que ficou vazio depois da divisão entre treino e teste\n",
        "shutil.rmtree('/content/sample_data/dataset/chest_xray/treinamento')\n",
        "\n",
        "#Renomear os folders\n",
        "os.rename('/content/sample_data/dataset/chest_xray/validacao','/content/sample_data/dataset/chest_xray/valid')\n",
        "os.rename('/content/sample_data/dataset/chest_xray/val','/content/sample_data/dataset/chest_xray/test')"
      ],
      "metadata": {
        "colab": {
          "base_uri": "https://localhost:8080/",
          "height": 380
        },
        "id": "NOkIy2rRlJ0r",
        "outputId": "db2466c2-5fec-49a4-9243-244fbae2cb10"
      },
      "execution_count": 21,
      "outputs": [
        {
          "output_type": "error",
          "ename": "ValueError",
          "evalue": "ignored",
          "traceback": [
            "\u001b[0;31m---------------------------------------------------------------------------\u001b[0m",
            "\u001b[0;31mValueError\u001b[0m                                Traceback (most recent call last)",
            "\u001b[0;32m<ipython-input-21-905e57897296>\u001b[0m in \u001b[0;36m<module>\u001b[0;34m\u001b[0m\n\u001b[1;32m      1\u001b[0m \u001b[0;31m#Train test split, 20% dos dados serão usados para testar o modelo\u001b[0m\u001b[0;34m\u001b[0m\u001b[0;34m\u001b[0m\u001b[0;34m\u001b[0m\u001b[0m\n\u001b[1;32m      2\u001b[0m \u001b[0mtreinamento_path\u001b[0m \u001b[0;34m=\u001b[0m \u001b[0;34m'/content/sample_data/dataset/chest_xray/treinamento'\u001b[0m\u001b[0;34m\u001b[0m\u001b[0;34m\u001b[0m\u001b[0m\n\u001b[0;32m----> 3\u001b[0;31m \u001b[0msplitfolders\u001b[0m\u001b[0;34m.\u001b[0m\u001b[0mratio\u001b[0m\u001b[0;34m(\u001b[0m\u001b[0mtreinamento_path\u001b[0m\u001b[0;34m,\u001b[0m \u001b[0moutput\u001b[0m\u001b[0;34m=\u001b[0m\u001b[0;34m\"/content/sample_data/dataset/chest_xray\"\u001b[0m\u001b[0;34m,\u001b[0m \u001b[0mmove\u001b[0m \u001b[0;34m=\u001b[0m \u001b[0;32mTrue\u001b[0m\u001b[0;34m,\u001b[0m  \u001b[0mseed\u001b[0m\u001b[0;34m=\u001b[0m\u001b[0;36m1\u001b[0m\u001b[0;34m,\u001b[0m \u001b[0mratio\u001b[0m\u001b[0;34m=\u001b[0m\u001b[0;34m(\u001b[0m\u001b[0;36m.8\u001b[0m\u001b[0;34m,\u001b[0m \u001b[0;36m0.2\u001b[0m\u001b[0;34m)\u001b[0m\u001b[0;34m)\u001b[0m\u001b[0;34m\u001b[0m\u001b[0;34m\u001b[0m\u001b[0m\n\u001b[0m\u001b[1;32m      4\u001b[0m \u001b[0;34m\u001b[0m\u001b[0m\n\u001b[1;32m      5\u001b[0m \u001b[0;31m#Remover o folder que ficou vazio depois da divisão entre treino e teste\u001b[0m\u001b[0;34m\u001b[0m\u001b[0;34m\u001b[0m\u001b[0;34m\u001b[0m\u001b[0m\n",
            "\u001b[0;32m/usr/local/lib/python3.7/dist-packages/splitfolders/split.py\u001b[0m in \u001b[0;36mratio\u001b[0;34m(input, output, seed, ratio, group_prefix, move)\u001b[0m\n\u001b[1;32m     79\u001b[0m         \u001b[0;32mraise\u001b[0m \u001b[0mValueError\u001b[0m\u001b[0;34m(\u001b[0m\u001b[0;34m\"`ratio` should\"\u001b[0m\u001b[0;34m)\u001b[0m\u001b[0;34m\u001b[0m\u001b[0;34m\u001b[0m\u001b[0m\n\u001b[1;32m     80\u001b[0m \u001b[0;34m\u001b[0m\u001b[0m\n\u001b[0;32m---> 81\u001b[0;31m     \u001b[0mcheck_input_format\u001b[0m\u001b[0;34m(\u001b[0m\u001b[0minput\u001b[0m\u001b[0;34m)\u001b[0m\u001b[0;34m\u001b[0m\u001b[0;34m\u001b[0m\u001b[0m\n\u001b[0m\u001b[1;32m     82\u001b[0m \u001b[0;34m\u001b[0m\u001b[0m\n\u001b[1;32m     83\u001b[0m     \u001b[0;32mif\u001b[0m \u001b[0muse_tqdm\u001b[0m\u001b[0;34m:\u001b[0m\u001b[0;34m\u001b[0m\u001b[0;34m\u001b[0m\u001b[0m\n",
            "\u001b[0;32m/usr/local/lib/python3.7/dist-packages/splitfolders/split.py\u001b[0m in \u001b[0;36mcheck_input_format\u001b[0;34m(input)\u001b[0m\n\u001b[1;32m     54\u001b[0m         \u001b[0;32mif\u001b[0m \u001b[0;32mnot\u001b[0m \u001b[0mp_input\u001b[0m\u001b[0;34m.\u001b[0m\u001b[0mis_absolute\u001b[0m\u001b[0;34m(\u001b[0m\u001b[0;34m)\u001b[0m\u001b[0;34m:\u001b[0m\u001b[0;34m\u001b[0m\u001b[0;34m\u001b[0m\u001b[0m\n\u001b[1;32m     55\u001b[0m             \u001b[0merr_msg\u001b[0m \u001b[0;34m+=\u001b[0m \u001b[0;34mf' Your relative path cannot be found from the current working directory \"{Path.cwd()}\".'\u001b[0m\u001b[0;34m\u001b[0m\u001b[0;34m\u001b[0m\u001b[0m\n\u001b[0;32m---> 56\u001b[0;31m         \u001b[0;32mraise\u001b[0m \u001b[0mValueError\u001b[0m\u001b[0;34m(\u001b[0m\u001b[0merr_msg\u001b[0m\u001b[0;34m)\u001b[0m\u001b[0;34m\u001b[0m\u001b[0;34m\u001b[0m\u001b[0m\n\u001b[0m\u001b[1;32m     57\u001b[0m \u001b[0;34m\u001b[0m\u001b[0m\n\u001b[1;32m     58\u001b[0m     \u001b[0;32mif\u001b[0m \u001b[0;32mnot\u001b[0m \u001b[0mp_input\u001b[0m\u001b[0;34m.\u001b[0m\u001b[0mis_dir\u001b[0m\u001b[0;34m(\u001b[0m\u001b[0;34m)\u001b[0m\u001b[0;34m:\u001b[0m\u001b[0;34m\u001b[0m\u001b[0;34m\u001b[0m\u001b[0m\n",
            "\u001b[0;31mValueError\u001b[0m: The provided input folder \"/content/sample_data/dataset/chest_xray/treinamento\" does not exists."
          ]
        }
      ]
    },
    {
      "cell_type": "markdown",
      "metadata": {
        "id": "n7UzdYX4cTu_"
      },
      "source": [
        "Definições"
      ]
    },
    {
      "cell_type": "code",
      "execution_count": null,
      "metadata": {
        "id": "_BEQfSd1cSWc"
      },
      "outputs": [],
      "source": [
        "#Caminhos das pastas de treino, teste e validação\n",
        "\n",
        "train_path = '/content/sample_data/dataset/chest_xray/train'\n",
        "test_path = '/content/sample_data/dataset/chest_xray/test'\n",
        "valid_path = '/content/sample_data/dataset/chest_xray/valid'\n",
        "\n",
        "#Tamanho das imagens\n",
        "\n",
        "img_height = 128\n",
        "img_width = 128\n",
        "\n",
        "#Quantidade de imagens que será utilizada a cada iteração\n",
        "\n",
        "batch_size = 1000 \n",
        "\n",
        "#Quantidade de classes\n",
        "num_classes = 3\n",
        "\n",
        "#Reproducibilidade\n",
        "def set_seed(seed=1):\n",
        "    np.random.seed(seed)\n",
        "    tf.random.set_seed(seed)\n",
        "    os.environ['PYTHONHASHSEED'] = str(seed)\n",
        "    os.environ['TF_DETERMINISTIC_OPS'] = '1'\n",
        "set_seed()"
      ]
    },
    {
      "cell_type": "markdown",
      "metadata": {
        "id": "2uQv0oOZWj44"
      },
      "source": [
        "Carregar imagens"
      ]
    },
    {
      "cell_type": "code",
      "execution_count": null,
      "metadata": {
        "id": "1EzzOEqzW_9p"
      },
      "outputs": [],
      "source": [
        "ds_train = image_dataset_from_directory(\n",
        "    train_path,\n",
        "    labels = 'inferred',\n",
        "    label_mode = 'categorical',\n",
        "    image_size = [img_height, img_width],\n",
        "    interpolation = 'nearest',\n",
        "    batch_size = batch_size,\n",
        "    shuffle = True\n",
        ")\n",
        "\n",
        "ds_test = image_dataset_from_directory(\n",
        "    test_path,\n",
        "    labels = 'inferred',\n",
        "    label_mode = 'categorical',\n",
        "    image_size = [img_height, img_width],\n",
        "    interpolation = 'nearest',\n",
        "    batch_size = batch_size,\n",
        "    shuffle = True\n",
        ")\n",
        "\n",
        "ds_valid = image_dataset_from_directory(\n",
        "    valid_path,\n",
        "    labels = 'inferred',\n",
        "    label_mode = 'categorical',\n",
        "    image_size = [img_height, img_width],\n",
        "    interpolation = 'nearest',\n",
        "    batch_size = batch_size,\n",
        "    shuffle = True\n",
        ")"
      ]
    },
    {
      "cell_type": "markdown",
      "source": [
        "---"
      ],
      "metadata": {
        "id": "WO6xuB2-ka7i"
      }
    },
    {
      "cell_type": "markdown",
      "metadata": {
        "id": "gjyMUa9PAAUd"
      },
      "source": [
        "Visualização das imagens"
      ]
    },
    {
      "cell_type": "code",
      "execution_count": null,
      "metadata": {
        "id": "xweuK0L3AADs"
      },
      "outputs": [],
      "source": [
        "directory = os.listdir(train_path)\n",
        "for each in directory:\n",
        "    plt.figure(figsize = (20, 20))\n",
        "    currentFolder = train_path + '/' + each\n",
        "    for i, file in enumerate(os.listdir(currentFolder)[0:5]):\n",
        "        fullpath = currentFolder + \"/\" + file\n",
        "        img = mpimg.imread(fullpath)\n",
        "        plt.subplot(2, 5, i+1)\n",
        "        plt.title(each)\n",
        "        plt.imshow(img)"
      ]
    },
    {
      "cell_type": "markdown",
      "source": [
        "---"
      ],
      "metadata": {
        "id": "ydPGvVrwkV28"
      }
    },
    {
      "cell_type": "markdown",
      "metadata": {
        "id": "XrrJdpZpY7fE"
      },
      "source": [
        "Modelagem"
      ]
    },
    {
      "cell_type": "markdown",
      "source": [
        "1.   CNN"
      ],
      "metadata": {
        "id": "zqjENDX8iWZY"
      }
    },
    {
      "cell_type": "code",
      "execution_count": null,
      "metadata": {
        "id": "wspr_3_BY5vJ"
      },
      "outputs": [],
      "source": [
        "model = keras.Sequential([\n",
        "    layers.Conv2D(filters = 32, kernel_size = (3,3), activation = 'relu', input_shape=(img_width, img_height, 3), padding = 'same'),\n",
        "    layers.MaxPooling2D(pool_size = (2,2)),\n",
        "    layers.Conv2D(filters = 64, kernel_size = (3,3), activation = 'relu', input_shape=(img_width, img_height, 3), padding = 'same'),\n",
        "    layers.MaxPooling2D(pool_size = (2,2)),\n",
        "    layers.Conv2D(filters = 128, kernel_size = (3,3), activation = 'relu', input_shape=(img_width, img_height, 3), padding = 'same'),\n",
        "    layers.Conv2D(filters = 128, kernel_size = (3,3), activation = 'relu', input_shape=(img_width, img_height, 3), padding = 'same'),\n",
        "    layers.MaxPooling2D(pool_size = (2,2)),\n",
        "    layers.Flatten(),\n",
        "    layers.Dense(units = 128, activation = 'relu'),\n",
        "    layers.Dense(units = 64, activation = 'relu'),\n",
        "    layers.Dense(units = 32, activation = 'relu'),\n",
        "    layers.Dense(units = 3, activation = 'softmax')\n",
        "])"
      ]
    },
    {
      "cell_type": "code",
      "execution_count": null,
      "metadata": {
        "id": "97DdDRNbgO96"
      },
      "outputs": [],
      "source": [
        "model.compile(\n",
        "    optimizer = tf.keras.optimizers.Adam(epsilon = 0.01),\n",
        "    loss = 'categorical_crossentropy',\n",
        "    metrics = ['accuracy']\n",
        ")"
      ]
    },
    {
      "cell_type": "markdown",
      "source": [
        "2.   CNN + Data Augmentation"
      ],
      "metadata": {
        "id": "cnJsugJkieB2"
      }
    },
    {
      "cell_type": "code",
      "source": [
        "model_aug = keras.Sequential([\n",
        "    preprocessing.RandomContrast(factor = 0.5),\n",
        "    preprocessing.RandomFlip(mode = 'horizontal'),\n",
        "    layers.Conv2D(filters = 32, kernel_size = (3,3), activation = 'relu', input_shape=(img_width, img_height, 3), padding = 'same'),\n",
        "    layers.MaxPooling2D(pool_size = (2,2)),\n",
        "    layers.Conv2D(filters = 64, kernel_size = (3,3), activation = 'relu', input_shape=(img_width, img_height, 3), padding = 'same'),\n",
        "    layers.MaxPooling2D(pool_size = (2,2)),\n",
        "    layers.Conv2D(filters = 128, kernel_size = (3,3), activation = 'relu', input_shape=(img_width, img_height, 3), padding = 'same'),\n",
        "    layers.Conv2D(filters = 128, kernel_size = (3,3), activation = 'relu', input_shape=(img_width, img_height, 3), padding = 'same'),\n",
        "    layers.MaxPooling2D(pool_size = (2,2)),\n",
        "    layers.Flatten(),\n",
        "    layers.Dense(units = 128, activation = 'relu'),\n",
        "    layers.Dense(units = 64, activation = 'relu'),\n",
        "    layers.Dense(units = 32, activation = 'relu'),\n",
        "    layers.Dense(units = 3, activation = 'softmax')\n",
        "])"
      ],
      "metadata": {
        "id": "DXtPPFCUifaD"
      },
      "execution_count": null,
      "outputs": []
    },
    {
      "cell_type": "code",
      "source": [
        "model_aug.compile(\n",
        "    optimizer = tf.keras.optimizers.Adam(epsilon = 0.01),\n",
        "    loss = 'categorical_crossentropy',\n",
        "    metrics = ['accuracy']\n",
        ")"
      ],
      "metadata": {
        "id": "4wug7VlWidqd"
      },
      "execution_count": null,
      "outputs": []
    },
    {
      "cell_type": "markdown",
      "source": [
        "3.  CNN Transfer Learning  "
      ],
      "metadata": {
        "id": "VoDvDnvhit-Q"
      }
    },
    {
      "cell_type": "code",
      "source": [
        "pretrained_base = VGG16(weights=\"imagenet\", include_top=False, input_shape=(img_width, img_height, 3))\n",
        "\n",
        "pretrained_base.trainable = False"
      ],
      "metadata": {
        "id": "qinZyQVui0lZ"
      },
      "execution_count": null,
      "outputs": []
    },
    {
      "cell_type": "code",
      "source": [
        "model_transf = keras.Sequential([\n",
        "    preprocessing.RandomContrast(factor = 0.5),\n",
        "    preprocessing.RandomFlip(mode = 'horizontal'),\n",
        "    pretrained_base,\n",
        "    layers.Flatten(),\n",
        "    layers.Dense(units = 128, activation = 'relu'),\n",
        "    layers.Dense(units = 3, activation = 'softmax')\n",
        "])"
      ],
      "metadata": {
        "id": "vvg51kcRi0i4"
      },
      "execution_count": null,
      "outputs": []
    },
    {
      "cell_type": "code",
      "source": [
        "model_transf.compile(\n",
        "    optimizer = tf.keras.optimizers.Adam(epsilon = 0.01),\n",
        "    loss = 'categorical_crossentropy',\n",
        "    metrics = ['accuracy']\n",
        ")"
      ],
      "metadata": {
        "id": "neiawe_9iz-g"
      },
      "execution_count": null,
      "outputs": []
    },
    {
      "cell_type": "markdown",
      "source": [
        "----"
      ],
      "metadata": {
        "id": "TbfAQ05UkLJe"
      }
    },
    {
      "cell_type": "markdown",
      "metadata": {
        "id": "miej8bRBg6jU"
      },
      "source": [
        "Treinamento"
      ]
    },
    {
      "cell_type": "code",
      "source": [
        "tf.get_logger().setLevel('ERROR') #Suprimir warnings to Tensorflow devido ao looping utilizado no Data Augmentation"
      ],
      "metadata": {
        "id": "KL4MVRkhkjUy"
      },
      "execution_count": 16,
      "outputs": []
    },
    {
      "cell_type": "markdown",
      "source": [
        "1. CNN"
      ],
      "metadata": {
        "id": "GtRk8EIyko7Y"
      }
    },
    {
      "cell_type": "code",
      "execution_count": null,
      "metadata": {
        "colab": {
          "base_uri": "https://localhost:8080/"
        },
        "id": "GuUIxwJYg5tJ",
        "outputId": "0ecc039b-e4b9-4151-d056-b90ddefc28a9"
      },
      "outputs": [
        {
          "output_type": "stream",
          "name": "stdout",
          "text": [
            "Epoch 1/50\n",
            "6/6 [==============================] - 48s 3s/step - loss: 20.9195 - accuracy: 0.3917 - val_loss: 3.3217 - val_accuracy: 0.4940\n",
            "Epoch 2/50\n",
            "6/6 [==============================] - 45s 3s/step - loss: 2.9830 - accuracy: 0.3015 - val_loss: 1.2663 - val_accuracy: 0.5482\n",
            "Epoch 3/50\n",
            "6/6 [==============================] - 45s 3s/step - loss: 1.2702 - accuracy: 0.4918 - val_loss: 1.0485 - val_accuracy: 0.3795\n",
            "Epoch 4/50\n",
            "6/6 [==============================] - 45s 3s/step - loss: 1.0096 - accuracy: 0.4460 - val_loss: 1.0469 - val_accuracy: 0.4217\n",
            "Epoch 5/50\n",
            "6/6 [==============================] - 45s 3s/step - loss: 0.9167 - accuracy: 0.6041 - val_loss: 0.9770 - val_accuracy: 0.5000\n",
            "Epoch 6/50\n",
            "6/6 [==============================] - 45s 3s/step - loss: 0.8349 - accuracy: 0.6492 - val_loss: 0.8730 - val_accuracy: 0.5843\n",
            "Epoch 7/50\n",
            "6/6 [==============================] - 46s 3s/step - loss: 0.7802 - accuracy: 0.6452 - val_loss: 0.7945 - val_accuracy: 0.6687\n",
            "Epoch 8/50\n",
            "6/6 [==============================] - 45s 3s/step - loss: 0.7238 - accuracy: 0.6819 - val_loss: 0.7192 - val_accuracy: 0.6928\n",
            "Epoch 9/50\n",
            "6/6 [==============================] - 46s 3s/step - loss: 0.6875 - accuracy: 0.6861 - val_loss: 0.6480 - val_accuracy: 0.7410\n",
            "Epoch 10/50\n",
            "6/6 [==============================] - 47s 3s/step - loss: 0.6564 - accuracy: 0.7214 - val_loss: 0.6227 - val_accuracy: 0.7530\n",
            "Epoch 11/50\n",
            "6/6 [==============================] - 45s 3s/step - loss: 0.6408 - accuracy: 0.7346 - val_loss: 0.5981 - val_accuracy: 0.7590\n",
            "Epoch 12/50\n",
            "6/6 [==============================] - 45s 3s/step - loss: 0.6122 - accuracy: 0.7325 - val_loss: 0.5875 - val_accuracy: 0.7169\n",
            "Epoch 13/50\n",
            "6/6 [==============================] - 45s 3s/step - loss: 0.5886 - accuracy: 0.7538 - val_loss: 0.5675 - val_accuracy: 0.7530\n",
            "Epoch 14/50\n",
            "6/6 [==============================] - 45s 3s/step - loss: 0.5683 - accuracy: 0.7562 - val_loss: 0.5937 - val_accuracy: 0.7470\n",
            "Epoch 15/50\n",
            "6/6 [==============================] - 45s 3s/step - loss: 0.5395 - accuracy: 0.7714 - val_loss: 0.5962 - val_accuracy: 0.7470\n",
            "Epoch 16/50\n",
            "6/6 [==============================] - 47s 3s/step - loss: 0.5319 - accuracy: 0.7733 - val_loss: 0.6001 - val_accuracy: 0.7470\n",
            "Epoch 17/50\n",
            "6/6 [==============================] - 61s 4s/step - loss: 0.5225 - accuracy: 0.7751 - val_loss: 0.5322 - val_accuracy: 0.7410\n",
            "Epoch 18/50\n",
            "6/6 [==============================] - 57s 4s/step - loss: 0.5075 - accuracy: 0.7842 - val_loss: 0.4917 - val_accuracy: 0.7952\n",
            "Epoch 19/50\n",
            "6/6 [==============================] - 49s 3s/step - loss: 0.4960 - accuracy: 0.7909 - val_loss: 0.5043 - val_accuracy: 0.7771\n",
            "Epoch 20/50\n",
            "6/6 [==============================] - 48s 3s/step - loss: 0.4956 - accuracy: 0.7807 - val_loss: 0.5081 - val_accuracy: 0.7711\n",
            "Epoch 21/50\n",
            "6/6 [==============================] - 49s 3s/step - loss: 0.4874 - accuracy: 0.7891 - val_loss: 0.5082 - val_accuracy: 0.7590\n",
            "Epoch 22/50\n",
            "6/6 [==============================] - 50s 4s/step - loss: 0.4811 - accuracy: 0.7959 - val_loss: 0.4675 - val_accuracy: 0.7651\n",
            "Epoch 23/50\n",
            "6/6 [==============================] - 51s 4s/step - loss: 0.4907 - accuracy: 0.7860 - val_loss: 0.4541 - val_accuracy: 0.7771\n",
            "Epoch 24/50\n",
            "6/6 [==============================] - 49s 4s/step - loss: 0.4805 - accuracy: 0.7921 - val_loss: 0.4576 - val_accuracy: 0.7892\n",
            "Epoch 25/50\n",
            "6/6 [==============================] - 53s 4s/step - loss: 0.4729 - accuracy: 0.7964 - val_loss: 0.4623 - val_accuracy: 0.7892\n",
            "Epoch 26/50\n",
            "6/6 [==============================] - 49s 3s/step - loss: 0.4654 - accuracy: 0.7964 - val_loss: 0.4485 - val_accuracy: 0.7771\n",
            "Epoch 27/50\n",
            "6/6 [==============================] - 48s 3s/step - loss: 0.4532 - accuracy: 0.8014 - val_loss: 0.4495 - val_accuracy: 0.7892\n",
            "Epoch 28/50\n",
            "6/6 [==============================] - 48s 4s/step - loss: 0.4610 - accuracy: 0.7939 - val_loss: 0.4484 - val_accuracy: 0.7771\n",
            "Epoch 29/50\n",
            "6/6 [==============================] - 50s 4s/step - loss: 0.4539 - accuracy: 0.8043 - val_loss: 0.4364 - val_accuracy: 0.7831\n",
            "Epoch 30/50\n",
            "6/6 [==============================] - 48s 3s/step - loss: 0.4494 - accuracy: 0.8016 - val_loss: 0.4450 - val_accuracy: 0.7892\n",
            "Epoch 31/50\n",
            "6/6 [==============================] - 48s 3s/step - loss: 0.4451 - accuracy: 0.8071 - val_loss: 0.4457 - val_accuracy: 0.7831\n",
            "Epoch 32/50\n",
            "6/6 [==============================] - 47s 3s/step - loss: 0.4459 - accuracy: 0.8026 - val_loss: 0.4497 - val_accuracy: 0.7771\n",
            "Epoch 33/50\n",
            "6/6 [==============================] - 48s 3s/step - loss: 0.4529 - accuracy: 0.8032 - val_loss: 0.4699 - val_accuracy: 0.7711\n",
            "Epoch 34/50\n",
            "6/6 [==============================] - 47s 3s/step - loss: 0.4472 - accuracy: 0.8085 - val_loss: 0.4516 - val_accuracy: 0.7892\n"
          ]
        }
      ],
      "source": [
        "history = model.fit(\n",
        "    ds_train,\n",
        "    validation_data = ds_test,\n",
        "    epochs = 50,\n",
        "    verbose = 1,\n",
        "    callbacks = EarlyStopping(monitor='val_loss', mode='min', patience=3)\n",
        ")"
      ]
    },
    {
      "cell_type": "code",
      "execution_count": null,
      "metadata": {
        "id": "DDyyuqpTxGY0",
        "colab": {
          "base_uri": "https://localhost:8080/"
        },
        "outputId": "592b5f5f-6461-4cd2-e69c-41983010ea27"
      },
      "outputs": [
        {
          "output_type": "stream",
          "name": "stdout",
          "text": [
            "         loss  accuracy  val_loss  val_accuracy\n",
            "0   20.919453  0.391708  3.321665      0.493976\n",
            "1    2.983003  0.301481  1.266275      0.548193\n",
            "2    1.270239  0.491807  1.048525      0.379518\n",
            "3    1.009554  0.446002  1.046946      0.421687\n",
            "4    0.916696  0.604146  0.977008      0.500000\n",
            "5    0.834879  0.649161  0.872994      0.584337\n",
            "6    0.780163  0.645212  0.794492      0.668675\n",
            "7    0.723782  0.681935  0.719234      0.692771\n",
            "8    0.687491  0.686081  0.647978      0.740964\n",
            "9    0.656386  0.721422  0.622717      0.753012\n",
            "10   0.640771  0.734650  0.598135      0.759036\n",
            "11   0.612175  0.732478  0.587508      0.716867\n",
            "12   0.588571  0.753801  0.567487      0.753012\n",
            "13   0.568292  0.756170  0.593725      0.746988\n",
            "14   0.539484  0.771372  0.596207      0.746988\n",
            "15   0.531893  0.773346  0.600092      0.746988\n",
            "16   0.522519  0.775123  0.532165      0.740964\n",
            "17   0.507493  0.784205  0.491737      0.795181\n",
            "18   0.496027  0.790918  0.504260      0.777108\n",
            "19   0.495603  0.780652  0.508078      0.771084\n",
            "20   0.487417  0.789141  0.508186      0.759036\n",
            "21   0.481088  0.795854  0.467506      0.765060\n",
            "22   0.490652  0.785982  0.454060      0.777108\n",
            "23   0.480518  0.792103  0.457562      0.789157\n",
            "24   0.472942  0.796446  0.462283      0.789157\n",
            "25   0.465363  0.796446  0.448519      0.777108\n",
            "26   0.453190  0.801382  0.449510      0.789157\n",
            "27   0.460974  0.793880  0.448389      0.777108\n",
            "28   0.453874  0.804344  0.436394      0.783133\n",
            "29   0.449432  0.801579  0.445013      0.789157\n",
            "30   0.445126  0.807108  0.445721      0.783133\n",
            "31   0.445937  0.802567  0.449651      0.777108\n",
            "32   0.452858  0.803159  0.469937      0.771084\n",
            "33   0.447223  0.808490  0.451601      0.789157\n"
          ]
        }
      ],
      "source": [
        "history_frame = pd.DataFrame(history.history)\n",
        "print(history_frame)"
      ]
    },
    {
      "cell_type": "code",
      "execution_count": null,
      "metadata": {
        "id": "MNsTRGOFr-eb",
        "colab": {
          "base_uri": "https://localhost:8080/",
          "height": 513
        },
        "outputId": "dc251e34-8e61-42f9-c403-af79f6e3bac9"
      },
      "outputs": [
        {
          "output_type": "display_data",
          "data": {
            "text/plain": [
              "<Figure size 432x288 with 1 Axes>"
            ],
            "image/png": "[encoded data removed]"
          },
          "metadata": {
            "needs_background": "light"
          }
        },
        {
          "output_type": "display_data",
          "data": {
            "text/plain": [
              "<Figure size 432x288 with 1 Axes>"
            ],
            "image/png": "[encoded data removed]"
          },
          "metadata": {
            "needs_background": "light"
          }
        }
      ],
      "source": [
        "history_frame.loc[:, ['loss', 'val_loss']].plot()\n",
        "history_frame.loc[:, ['accuracy', 'val_accuracy']].plot();"
      ]
    },
    {
      "cell_type": "markdown",
      "source": [
        "2.   CNN + Data Augmentation"
      ],
      "metadata": {
        "id": "mqUitRO2kth_"
      }
    },
    {
      "cell_type": "code",
      "execution_count": null,
      "metadata": {
        "colab": {
          "base_uri": "https://localhost:8080/"
        },
        "outputId": "887fc6c6-1ed0-48b1-8cef-1d0d84bd0247",
        "id": "aRsDtmu1k0f8"
      },
      "outputs": [
        {
          "output_type": "stream",
          "name": "stdout",
          "text": [
            "Epoch 1/50\n",
            "6/6 [==============================] - 51s 4s/step - loss: 40.0166 - accuracy: 0.3465 - val_loss: 5.9392 - val_accuracy: 0.2349\n",
            "Epoch 2/50\n",
            "6/6 [==============================] - 51s 3s/step - loss: 3.3961 - accuracy: 0.4091 - val_loss: 3.2780 - val_accuracy: 0.2169\n",
            "Epoch 3/50\n",
            "6/6 [==============================] - 50s 4s/step - loss: 1.8448 - accuracy: 0.3957 - val_loss: 1.0368 - val_accuracy: 0.5964\n",
            "Epoch 4/50\n",
            "6/6 [==============================] - 50s 4s/step - loss: 1.1474 - accuracy: 0.3955 - val_loss: 0.9938 - val_accuracy: 0.4458\n",
            "Epoch 5/50\n",
            "6/6 [==============================] - 49s 4s/step - loss: 0.9841 - accuracy: 0.5688 - val_loss: 1.0877 - val_accuracy: 0.4398\n",
            "Epoch 6/50\n",
            "6/6 [==============================] - 49s 3s/step - loss: 0.9065 - accuracy: 0.5824 - val_loss: 0.8334 - val_accuracy: 0.6446\n",
            "Epoch 7/50\n",
            "6/6 [==============================] - 49s 3s/step - loss: 0.8531 - accuracy: 0.6144 - val_loss: 0.8069 - val_accuracy: 0.6807\n",
            "Epoch 8/50\n",
            "6/6 [==============================] - 48s 3s/step - loss: 0.8105 - accuracy: 0.6474 - val_loss: 0.7356 - val_accuracy: 0.7108\n",
            "Epoch 9/50\n",
            "6/6 [==============================] - 49s 4s/step - loss: 0.7689 - accuracy: 0.6804 - val_loss: 0.7483 - val_accuracy: 0.6807\n",
            "Epoch 10/50\n",
            "6/6 [==============================] - 50s 3s/step - loss: 0.7347 - accuracy: 0.6944 - val_loss: 0.7032 - val_accuracy: 0.7108\n",
            "Epoch 11/50\n",
            "6/6 [==============================] - 50s 3s/step - loss: 0.7016 - accuracy: 0.7062 - val_loss: 0.6967 - val_accuracy: 0.7349\n",
            "Epoch 12/50\n",
            "6/6 [==============================] - 50s 3s/step - loss: 0.6657 - accuracy: 0.7303 - val_loss: 0.6870 - val_accuracy: 0.7169\n",
            "Epoch 13/50\n",
            "6/6 [==============================] - 50s 4s/step - loss: 0.6519 - accuracy: 0.7260 - val_loss: 0.6620 - val_accuracy: 0.7229\n",
            "Epoch 14/50\n",
            "6/6 [==============================] - 49s 3s/step - loss: 0.6385 - accuracy: 0.7285 - val_loss: 0.6054 - val_accuracy: 0.7410\n",
            "Epoch 15/50\n",
            "6/6 [==============================] - 49s 3s/step - loss: 0.6105 - accuracy: 0.7416 - val_loss: 0.6132 - val_accuracy: 0.7229\n",
            "Epoch 16/50\n",
            "6/6 [==============================] - 51s 4s/step - loss: 0.6025 - accuracy: 0.7508 - val_loss: 0.5506 - val_accuracy: 0.7470\n",
            "Epoch 17/50\n",
            "6/6 [==============================] - 51s 3s/step - loss: 0.6049 - accuracy: 0.7429 - val_loss: 0.5210 - val_accuracy: 0.7590\n",
            "Epoch 18/50\n",
            "6/6 [==============================] - 51s 3s/step - loss: 0.5925 - accuracy: 0.7459 - val_loss: 0.5026 - val_accuracy: 0.7590\n",
            "Epoch 19/50\n",
            "6/6 [==============================] - 61s 5s/step - loss: 0.5736 - accuracy: 0.7540 - val_loss: 0.5085 - val_accuracy: 0.7711\n",
            "Epoch 20/50\n",
            "6/6 [==============================] - 55s 3s/step - loss: 0.5589 - accuracy: 0.7599 - val_loss: 0.5530 - val_accuracy: 0.7590\n",
            "Epoch 21/50\n",
            "6/6 [==============================] - 51s 3s/step - loss: 0.5535 - accuracy: 0.7647 - val_loss: 0.6575 - val_accuracy: 0.6867\n",
            "Epoch 22/50\n",
            "6/6 [==============================] - 52s 3s/step - loss: 0.5676 - accuracy: 0.7524 - val_loss: 0.4693 - val_accuracy: 0.7711\n",
            "Epoch 23/50\n",
            "6/6 [==============================] - 51s 3s/step - loss: 0.5699 - accuracy: 0.7516 - val_loss: 0.4577 - val_accuracy: 0.7771\n",
            "Epoch 24/50\n",
            "6/6 [==============================] - 51s 3s/step - loss: 0.5392 - accuracy: 0.7720 - val_loss: 0.4618 - val_accuracy: 0.7831\n",
            "Epoch 25/50\n",
            "6/6 [==============================] - 51s 3s/step - loss: 0.5388 - accuracy: 0.7706 - val_loss: 0.4520 - val_accuracy: 0.7831\n",
            "Epoch 26/50\n",
            "6/6 [==============================] - 48s 3s/step - loss: 0.5360 - accuracy: 0.7690 - val_loss: 0.4903 - val_accuracy: 0.7831\n",
            "Epoch 27/50\n",
            "6/6 [==============================] - 48s 3s/step - loss: 0.5331 - accuracy: 0.7621 - val_loss: 0.4434 - val_accuracy: 0.8012\n",
            "Epoch 28/50\n",
            "6/6 [==============================] - 52s 3s/step - loss: 0.5110 - accuracy: 0.7741 - val_loss: 0.4636 - val_accuracy: 0.7771\n",
            "Epoch 29/50\n",
            "6/6 [==============================] - 56s 4s/step - loss: 0.5163 - accuracy: 0.7720 - val_loss: 0.4594 - val_accuracy: 0.7952\n",
            "Epoch 30/50\n",
            "6/6 [==============================] - 55s 3s/step - loss: 0.5022 - accuracy: 0.7781 - val_loss: 0.4427 - val_accuracy: 0.8012\n",
            "Epoch 31/50\n",
            "6/6 [==============================] - 52s 3s/step - loss: 0.5002 - accuracy: 0.7844 - val_loss: 0.4778 - val_accuracy: 0.7651\n",
            "Epoch 32/50\n",
            "6/6 [==============================] - 53s 3s/step - loss: 0.5028 - accuracy: 0.7832 - val_loss: 0.4383 - val_accuracy: 0.7952\n",
            "Epoch 33/50\n",
            "6/6 [==============================] - 52s 3s/step - loss: 0.5137 - accuracy: 0.7785 - val_loss: 0.4380 - val_accuracy: 0.7651\n",
            "Epoch 34/50\n",
            "6/6 [==============================] - 54s 4s/step - loss: 0.5085 - accuracy: 0.7765 - val_loss: 0.4700 - val_accuracy: 0.7590\n",
            "Epoch 35/50\n",
            "6/6 [==============================] - 53s 3s/step - loss: 0.5058 - accuracy: 0.7753 - val_loss: 0.5990 - val_accuracy: 0.7169\n",
            "Epoch 36/50\n",
            "6/6 [==============================] - 52s 3s/step - loss: 0.5061 - accuracy: 0.7791 - val_loss: 0.4326 - val_accuracy: 0.7831\n",
            "Epoch 37/50\n",
            "6/6 [==============================] - 53s 4s/step - loss: 0.5042 - accuracy: 0.7797 - val_loss: 0.4104 - val_accuracy: 0.8012\n",
            "Epoch 38/50\n",
            "6/6 [==============================] - 53s 4s/step - loss: 0.4947 - accuracy: 0.7828 - val_loss: 0.4827 - val_accuracy: 0.7590\n",
            "Epoch 39/50\n",
            "6/6 [==============================] - 52s 3s/step - loss: 0.5213 - accuracy: 0.7585 - val_loss: 0.4601 - val_accuracy: 0.7831\n",
            "Epoch 40/50\n",
            "6/6 [==============================] - 53s 4s/step - loss: 0.4891 - accuracy: 0.7880 - val_loss: 0.4448 - val_accuracy: 0.8072\n",
            "Epoch 41/50\n",
            "6/6 [==============================] - 52s 3s/step - loss: 0.4808 - accuracy: 0.7915 - val_loss: 0.4453 - val_accuracy: 0.8012\n",
            "Epoch 42/50\n",
            "6/6 [==============================] - 51s 3s/step - loss: 0.4820 - accuracy: 0.7878 - val_loss: 0.4907 - val_accuracy: 0.7530\n"
          ]
        }
      ],
      "source": [
        "history_aug = model_aug.fit(\n",
        "    ds_train,\n",
        "    validation_data = ds_test,\n",
        "    epochs = 50,\n",
        "    verbose = 1,\n",
        "    callbacks = EarlyStopping(monitor='val_loss', mode='min', patience=3)\n",
        ")"
      ]
    },
    {
      "cell_type": "code",
      "execution_count": null,
      "metadata": {
        "id": "x7Updp_Qk0f8",
        "colab": {
          "base_uri": "https://localhost:8080/"
        },
        "outputId": "b5c18fa2-97ff-4003-afc6-0d07b78ee941"
      },
      "outputs": [
        {
          "output_type": "stream",
          "name": "stdout",
          "text": [
            "         loss  accuracy  val_loss  val_accuracy\n",
            "0   40.016624  0.346496  5.939169      0.234940\n",
            "1    3.396092  0.409082  3.278029      0.216867\n",
            "2    1.844848  0.395656  1.036849      0.596386\n",
            "3    1.147375  0.395459  0.993836      0.445783\n",
            "4    0.984133  0.568806  1.087725      0.439759\n",
            "5    0.906540  0.582428  0.833404      0.644578\n",
            "6    0.853113  0.614413  0.806887      0.680723\n",
            "7    0.810452  0.647384  0.735588      0.710843\n",
            "8    0.768915  0.680355  0.748275      0.680723\n",
            "9    0.734698  0.694373  0.703150      0.710843\n",
            "10   0.701599  0.706219  0.696744      0.734940\n",
            "11   0.665659  0.730306  0.686970      0.716867\n",
            "12   0.651907  0.725962  0.661990      0.722892\n",
            "13   0.638454  0.728529  0.605425      0.740964\n",
            "14   0.610518  0.741560  0.613237      0.722892\n",
            "15   0.602455  0.750839  0.550623      0.746988\n",
            "16   0.604905  0.742942  0.520956      0.759036\n",
            "17   0.592514  0.745903  0.502616      0.759036\n",
            "18   0.573567  0.753998  0.508538      0.771084\n",
            "19   0.558851  0.759921  0.552987      0.759036\n",
            "20   0.553540  0.764659  0.657505      0.686747\n",
            "21   0.567648  0.752419  0.469342      0.771084\n",
            "22   0.569913  0.751629  0.457739      0.777108\n",
            "23   0.539151  0.771964  0.461780      0.783133\n",
            "24   0.538840  0.770582  0.451978      0.783133\n",
            "25   0.535997  0.769003  0.490279      0.783133\n",
            "26   0.533136  0.762093  0.443420      0.801205\n",
            "27   0.510960  0.774136  0.463596      0.777108\n",
            "28   0.516253  0.771964  0.459351      0.795181\n",
            "29   0.502161  0.778085  0.442688      0.801205\n",
            "30   0.500222  0.784403  0.477846      0.765060\n",
            "31   0.502831  0.783218  0.438291      0.795181\n",
            "32   0.513712  0.778480  0.437954      0.765060\n",
            "33   0.508531  0.776505  0.470046      0.759036\n",
            "34   0.505810  0.775321  0.599007      0.716867\n",
            "35   0.506097  0.779072  0.432558      0.783133\n",
            "36   0.504179  0.779664  0.410436      0.801205\n",
            "37   0.494750  0.782823  0.482675      0.759036\n",
            "38   0.521291  0.758539  0.460098      0.783133\n",
            "39   0.489053  0.787957  0.444762      0.807229\n",
            "40   0.480818  0.791510  0.445270      0.801205\n",
            "41   0.481976  0.787759  0.490651      0.753012\n"
          ]
        }
      ],
      "source": [
        "history_aug_frame = pd.DataFrame(history_aug.history)\n",
        "print(history_aug_frame)"
      ]
    },
    {
      "cell_type": "code",
      "execution_count": null,
      "metadata": {
        "id": "2eFXx-rJk0f9",
        "colab": {
          "base_uri": "https://localhost:8080/",
          "height": 513
        },
        "outputId": "448d1c93-cad6-40a8-a6dd-27fbd89d90e2"
      },
      "outputs": [
        {
          "output_type": "display_data",
          "data": {
            "text/plain": [
              "<Figure size 432x288 with 1 Axes>"
            ],
            "image/png": "[encoded data removed]"
          },
          "metadata": {
            "needs_background": "light"
          }
        },
        {
          "output_type": "display_data",
          "data": {
            "text/plain": [
              "<Figure size 432x288 with 1 Axes>"
            ],
            "image/png": "[encoded data removed]"
          },
          "metadata": {
            "needs_background": "light"
          }
        }
      ],
      "source": [
        "history_aug_frame.loc[:, ['loss', 'val_loss']].plot()\n",
        "history_aug_frame.loc[:, ['accuracy', 'val_accuracy']].plot();"
      ]
    },
    {
      "cell_type": "markdown",
      "source": [
        "3.   CNN Transfer Learning"
      ],
      "metadata": {
        "id": "6JArlTPplD-K"
      }
    },
    {
      "cell_type": "code",
      "source": [
        "# Detect TPU, return appropriate distribution strategy\n",
        "try:\n",
        "    tpu = tf.distribute.cluster_resolver.TPUClusterResolver() \n",
        "    print('Running on TPU ', tpu.master())\n",
        "except ValueError:\n",
        "    tpu = None\n",
        "\n",
        "if tpu:\n",
        "    tf.config.experimental_connect_to_cluster(tpu)\n",
        "    tf.tpu.experimental.initialize_tpu_system(tpu)\n",
        "    strategy = tf.distribute.experimental.TPUStrategy(tpu)\n",
        "else:\n",
        "    strategy = tf.distribute.get_strategy() \n",
        "\n",
        "print(\"REPLICAS: \", strategy.num_replicas_in_sync)"
      ],
      "metadata": {
        "id": "f1w7qZVMrkOh",
        "outputId": "cf68839e-26b2-4c4a-f02c-f0afcd8d6798",
        "colab": {
          "base_uri": "https://localhost:8080/",
          "height": 235
        }
      },
      "execution_count": 1,
      "outputs": [
        {
          "output_type": "error",
          "ename": "NameError",
          "evalue": "ignored",
          "traceback": [
            "\u001b[0;31m---------------------------------------------------------------------------\u001b[0m",
            "\u001b[0;31mNameError\u001b[0m                                 Traceback (most recent call last)",
            "\u001b[0;32m<ipython-input-1-f636785ff627>\u001b[0m in \u001b[0;36m<module>\u001b[0;34m\u001b[0m\n\u001b[1;32m      1\u001b[0m \u001b[0;31m# Detect TPU, return appropriate distribution strategy\u001b[0m\u001b[0;34m\u001b[0m\u001b[0;34m\u001b[0m\u001b[0;34m\u001b[0m\u001b[0m\n\u001b[1;32m      2\u001b[0m \u001b[0;32mtry\u001b[0m\u001b[0;34m:\u001b[0m\u001b[0;34m\u001b[0m\u001b[0;34m\u001b[0m\u001b[0m\n\u001b[0;32m----> 3\u001b[0;31m     \u001b[0mtpu\u001b[0m \u001b[0;34m=\u001b[0m \u001b[0mtf\u001b[0m\u001b[0;34m.\u001b[0m\u001b[0mdistribute\u001b[0m\u001b[0;34m.\u001b[0m\u001b[0mcluster_resolver\u001b[0m\u001b[0;34m.\u001b[0m\u001b[0mTPUClusterResolver\u001b[0m\u001b[0;34m(\u001b[0m\u001b[0;34m)\u001b[0m\u001b[0;34m\u001b[0m\u001b[0;34m\u001b[0m\u001b[0m\n\u001b[0m\u001b[1;32m      4\u001b[0m     \u001b[0mprint\u001b[0m\u001b[0;34m(\u001b[0m\u001b[0;34m'Running on TPU '\u001b[0m\u001b[0;34m,\u001b[0m \u001b[0mtpu\u001b[0m\u001b[0;34m.\u001b[0m\u001b[0mmaster\u001b[0m\u001b[0;34m(\u001b[0m\u001b[0;34m)\u001b[0m\u001b[0;34m)\u001b[0m\u001b[0;34m\u001b[0m\u001b[0;34m\u001b[0m\u001b[0m\n\u001b[1;32m      5\u001b[0m \u001b[0;32mexcept\u001b[0m \u001b[0mValueError\u001b[0m\u001b[0;34m:\u001b[0m\u001b[0;34m\u001b[0m\u001b[0;34m\u001b[0m\u001b[0m\n",
            "\u001b[0;31mNameError\u001b[0m: name 'tf' is not defined"
          ]
        }
      ]
    },
    {
      "cell_type": "code",
      "execution_count": null,
      "metadata": {
        "colab": {
          "base_uri": "https://localhost:8080/"
        },
        "outputId": "d3a11926-213b-495f-eca8-83c3c6d15316",
        "id": "DInUOCPMlD-K"
      },
      "outputs": [
        {
          "output_type": "stream",
          "name": "stdout",
          "text": [
            "Epoch 1/50\n"
          ]
        },
        {
          "output_type": "stream",
          "name": "stderr",
          "text": [
            "WARNING:tensorflow:Using a while_loop for converting RngReadAndSkip\n",
            "WARNING:tensorflow:Using a while_loop for converting Bitcast\n",
            "WARNING:tensorflow:Using a while_loop for converting Bitcast\n",
            "WARNING:tensorflow:Using a while_loop for converting StatelessRandomUniformFullIntV2\n",
            "WARNING:tensorflow:Using a while_loop for converting StatelessRandomGetKeyCounter\n",
            "WARNING:tensorflow:Using a while_loop for converting StatelessRandomUniformV2\n",
            "WARNING:tensorflow:Using a while_loop for converting AdjustContrastv2\n",
            "WARNING:tensorflow:Using a while_loop for converting RngReadAndSkip\n",
            "WARNING:tensorflow:Using a while_loop for converting Bitcast\n",
            "WARNING:tensorflow:Using a while_loop for converting Bitcast\n",
            "WARNING:tensorflow:Using a while_loop for converting StatelessRandomUniformFullIntV2\n",
            "WARNING:tensorflow:Using a while_loop for converting StatelessRandomGetKeyCounter\n",
            "WARNING:tensorflow:Using a while_loop for converting StatelessRandomUniformV2\n",
            "WARNING:tensorflow:Using a while_loop for converting AdjustContrastv2\n",
            "WARNING:tensorflow:Using a while_loop for converting RngReadAndSkip\n",
            "WARNING:tensorflow:Using a while_loop for converting Bitcast\n",
            "WARNING:tensorflow:Using a while_loop for converting Bitcast\n",
            "WARNING:tensorflow:Using a while_loop for converting StatelessRandomUniformFullIntV2\n",
            "WARNING:tensorflow:Using a while_loop for converting StatelessRandomGetKeyCounter\n",
            "WARNING:tensorflow:Using a while_loop for converting StatelessRandomUniformV2\n",
            "WARNING:tensorflow:Using a while_loop for converting AdjustContrastv2\n"
          ]
        },
        {
          "output_type": "stream",
          "name": "stdout",
          "text": [
            "5/5 [==============================] - 906s 176s/step - loss: 39.2643 - accuracy: 0.4182 - val_loss: 21.9184 - val_accuracy: 0.3087\n",
            "Epoch 2/50\n",
            "1/5 [=====>........................] - ETA: 13:20 - loss: 19.7870 - accuracy: 0.3210"
          ]
        }
      ],
      "source": [
        "history_transfer = model_transf.fit(\n",
        "    ds_train,\n",
        "    validation_data = ds_test,\n",
        "    epochs = 50,\n",
        "    verbose = 1,\n",
        "    callbacks = EarlyStopping(monitor='val_loss', mode='min', patience=3)\n",
        ")"
      ]
    },
    {
      "cell_type": "code",
      "execution_count": null,
      "metadata": {
        "id": "_oo5E8YAlD-K"
      },
      "outputs": [],
      "source": [
        "history_transfer = pd.DataFrame(history_transfer.history)\n",
        "print(history_aug_frame)"
      ]
    },
    {
      "cell_type": "code",
      "execution_count": null,
      "metadata": {
        "id": "hYjLjSc5lD-L"
      },
      "outputs": [],
      "source": [
        "history_transfer.loc[:, ['loss', 'val_loss']].plot()\n",
        "history_transfer.loc[:, ['accuracy', 'val_accuracy']].plot();"
      ]
    },
    {
      "cell_type": "markdown",
      "source": [
        "Model Saves"
      ],
      "metadata": {
        "id": "XG7ZdcjD-drd"
      }
    },
    {
      "cell_type": "code",
      "source": [
        "model.save()\n",
        "model_aug.save()\n",
        "model_aug_transfer.save()"
      ],
      "metadata": {
        "id": "YwEN_K-y-fDg"
      },
      "execution_count": null,
      "outputs": []
    }
  ],
  "metadata": {
    "accelerator": "TPU",
    "colab": {
      "provenance": [],
      "collapsed_sections": [],
      "include_colab_link": true
    },
    "kernelspec": {
      "display_name": "Python 3",
      "name": "python3"
    },
    "language_info": {
      "name": "python"
    },
    "gpuClass": "standard"
  },
  "nbformat": 4,
  "nbformat_minor": 0
}